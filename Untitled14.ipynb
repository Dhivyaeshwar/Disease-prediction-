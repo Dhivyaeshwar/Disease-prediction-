{
 "cells": [
  {
   "cell_type": "code",
   "execution_count": 29,
   "id": "de58eb31-8d1a-402e-89ea-a1dc38356ea4",
   "metadata": {},
   "outputs": [],
   "source": [
    "# Import necessary libraries\n",
    "import pandas as pd\n",
    "from sklearn.model_selection import train_test_split\n",
    "from sklearn.preprocessing import StandardScaler, OneHotEncoder\n",
    "from sklearn.compose import ColumnTransformer\n",
    "from sklearn.linear_model import LogisticRegression\n",
    "from sklearn.metrics import accuracy_score, classification_report, roc_auc_score\n",
    "from sklearn.pipeline import Pipeline"
   ]
  },
  {
   "cell_type": "code",
   "execution_count": 31,
   "id": "61f5e58f-28c9-4fcb-be64-c49b3c5c3190",
   "metadata": {},
   "outputs": [
    {
     "data": {
      "text/html": [
       "<div>\n",
       "<style scoped>\n",
       "    .dataframe tbody tr th:only-of-type {\n",
       "        vertical-align: middle;\n",
       "    }\n",
       "\n",
       "    .dataframe tbody tr th {\n",
       "        vertical-align: top;\n",
       "    }\n",
       "\n",
       "    .dataframe thead th {\n",
       "        text-align: right;\n",
       "    }\n",
       "</style>\n",
       "<table border=\"1\" class=\"dataframe\">\n",
       "  <thead>\n",
       "    <tr style=\"text-align: right;\">\n",
       "      <th></th>\n",
       "      <th>itching</th>\n",
       "      <th>skin_rash</th>\n",
       "      <th>continuous_sneezing</th>\n",
       "      <th>shivering</th>\n",
       "      <th>chills</th>\n",
       "      <th>joint_pain</th>\n",
       "      <th>stomach_pain</th>\n",
       "      <th>acidity</th>\n",
       "      <th>prognosis</th>\n",
       "    </tr>\n",
       "  </thead>\n",
       "  <tbody>\n",
       "    <tr>\n",
       "      <th>0</th>\n",
       "      <td>1</td>\n",
       "      <td>1</td>\n",
       "      <td>0</td>\n",
       "      <td>0</td>\n",
       "      <td>0</td>\n",
       "      <td>0</td>\n",
       "      <td>0</td>\n",
       "      <td>0</td>\n",
       "      <td>Fungal infection</td>\n",
       "    </tr>\n",
       "    <tr>\n",
       "      <th>1</th>\n",
       "      <td>0</td>\n",
       "      <td>0</td>\n",
       "      <td>1</td>\n",
       "      <td>1</td>\n",
       "      <td>1</td>\n",
       "      <td>0</td>\n",
       "      <td>0</td>\n",
       "      <td>0</td>\n",
       "      <td>Allergy</td>\n",
       "    </tr>\n",
       "    <tr>\n",
       "      <th>2</th>\n",
       "      <td>0</td>\n",
       "      <td>0</td>\n",
       "      <td>0</td>\n",
       "      <td>0</td>\n",
       "      <td>0</td>\n",
       "      <td>0</td>\n",
       "      <td>1</td>\n",
       "      <td>1</td>\n",
       "      <td>GERD</td>\n",
       "    </tr>\n",
       "    <tr>\n",
       "      <th>3</th>\n",
       "      <td>1</td>\n",
       "      <td>0</td>\n",
       "      <td>0</td>\n",
       "      <td>0</td>\n",
       "      <td>0</td>\n",
       "      <td>0</td>\n",
       "      <td>0</td>\n",
       "      <td>0</td>\n",
       "      <td>Chronic cholestasis</td>\n",
       "    </tr>\n",
       "    <tr>\n",
       "      <th>4</th>\n",
       "      <td>1</td>\n",
       "      <td>1</td>\n",
       "      <td>0</td>\n",
       "      <td>0</td>\n",
       "      <td>0</td>\n",
       "      <td>0</td>\n",
       "      <td>1</td>\n",
       "      <td>0</td>\n",
       "      <td>Drug Reaction</td>\n",
       "    </tr>\n",
       "  </tbody>\n",
       "</table>\n",
       "</div>"
      ],
      "text/plain": [
       "   itching  skin_rash  continuous_sneezing  shivering  chills  joint_pain  \\\n",
       "0        1          1                    0          0       0           0   \n",
       "1        0          0                    1          1       1           0   \n",
       "2        0          0                    0          0       0           0   \n",
       "3        1          0                    0          0       0           0   \n",
       "4        1          1                    0          0       0           0   \n",
       "\n",
       "   stomach_pain  acidity            prognosis  \n",
       "0             0        0     Fungal infection  \n",
       "1             0        0              Allergy  \n",
       "2             1        1                 GERD  \n",
       "3             0        0  Chronic cholestasis  \n",
       "4             1        0        Drug Reaction  "
      ]
     },
     "execution_count": 31,
     "metadata": {},
     "output_type": "execute_result"
    }
   ],
   "source": [
    "# Load the dataset\n",
    "data = pd.read_csv(\"C:\\\\Users\\\\surut\\\\OneDrive\\\\Documents\\\\DataScience\\\\Testing.csv\")\n",
    "data.head()"
   ]
  },
  {
   "cell_type": "code",
   "execution_count": 41,
   "id": "fca94861-85fc-465f-bddb-14a9f9343b55",
   "metadata": {},
   "outputs": [],
   "source": [
    "# Preprocessing\n",
    "# Assume 'prognosis' is the target variable and the rest are features\n",
    "X = data.drop('prognosis', axis=1)\n",
    "y = data['itching']"
   ]
  },
  {
   "cell_type": "code",
   "execution_count": 43,
   "id": "32c54e59-9bf7-47c6-b40d-360e28fb2a33",
   "metadata": {},
   "outputs": [],
   "source": [
    "# Handle missing values by replacing them with 0 (or use an appropriate strategy)\n",
    "X.fillna(0, inplace=True)\n",
    "\n",
    "# Since 'prognosis' is categorical, we'll one-hot encode it later\n",
    "# If all the symptom columns are numeric (e.g., 0/1 for presence/absence), we only need to scale them\n",
    "numeric_cols = X.columns"
   ]
  },
  {
   "cell_type": "code",
   "execution_count": 45,
   "id": "73e44091-f374-499e-9bb1-aca477ae3d32",
   "metadata": {},
   "outputs": [],
   "source": [
    "# Preprocess the data: Scale numeric columns\n",
    "preprocessor = ColumnTransformer(\n",
    "    transformers=[\n",
    "        ('num', StandardScaler(), numeric_cols)\n",
    "    ])"
   ]
  },
  {
   "cell_type": "code",
   "execution_count": 47,
   "id": "d7df2383-dc2a-4ce5-bfb5-22661f3979d4",
   "metadata": {},
   "outputs": [
    {
     "name": "stdout",
     "output_type": "stream",
     "text": [
      "Accuracy: 1.00\n"
     ]
    }
   ],
   "source": [
    "# Create a pipeline to streamline preprocessing and model training\n",
    "model_pipeline = Pipeline(steps=[('preprocessor', preprocessor),\n",
    "                                 ('classifier', LogisticRegression())])\n",
    "\n",
    "# Split the data into training and testing sets\n",
    "X_train, X_test, y_train, y_test = train_test_split(X, y, test_size=0.3, random_state=42)\n",
    "\n",
    "# Train the model\n",
    "model_pipeline.fit(X_train, y_train)\n",
    "\n",
    "# Predictions\n",
    "y_pred = model_pipeline.predict(X_test)\n",
    "\n",
    "# Model evaluation\n",
    "accuracy = accuracy_score(y_test, y_pred)\n",
    "print(f'Accuracy: {accuracy:.2f}')"
   ]
  },
  {
   "cell_type": "code",
   "execution_count": 49,
   "id": "ce06d487-67db-4d92-b045-59f0bfa66607",
   "metadata": {},
   "outputs": [
    {
     "name": "stdout",
     "output_type": "stream",
     "text": [
      "              precision    recall  f1-score   support\n",
      "\n",
      "           0       1.00      1.00      1.00        12\n",
      "           1       1.00      1.00      1.00         1\n",
      "\n",
      "    accuracy                           1.00        13\n",
      "   macro avg       1.00      1.00      1.00        13\n",
      "weighted avg       1.00      1.00      1.00        13\n",
      "\n",
      "AUC-ROC Score: 1.00\n"
     ]
    }
   ],
   "source": [
    "# Detailed report\n",
    "print(classification_report(y_test, y_pred))\n",
    "\n",
    "# AUC-ROC Score (Only for binary classification; otherwise, this will need adjustment)\n",
    "try:\n",
    "    roc_auc = roc_auc_score(y_test, model_pipeline.predict_proba(X_test)[:, 1])\n",
    "    print(f'AUC-ROC Score: {roc_auc:.2f}')\n",
    "except:\n",
    "    print(\"AUC-ROC Score is only applicable for binary classification.\")"
   ]
  }
 ],
 "metadata": {
  "kernelspec": {
   "display_name": "Python 3 (ipykernel)",
   "language": "python",
   "name": "python3"
  },
  "language_info": {
   "codemirror_mode": {
    "name": "ipython",
    "version": 3
   },
   "file_extension": ".py",
   "mimetype": "text/x-python",
   "name": "python",
   "nbconvert_exporter": "python",
   "pygments_lexer": "ipython3",
   "version": "3.12.4"
  }
 },
 "nbformat": 4,
 "nbformat_minor": 5
}
